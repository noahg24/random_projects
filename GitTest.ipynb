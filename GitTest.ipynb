{
 "cells": [
  {
   "cell_type": "markdown",
   "id": "de3bf7a7",
   "metadata": {},
   "source": [
    "## Random Mini Projects\n",
    "\n",
    "### Card Games\n",
    "* Funches\n",
    "* War\n",
    "\n",
    "### Other Games\n",
    "* Connect 4\n",
    "* Minesweeper"
   ]
  },
  {
   "cell_type": "code",
   "execution_count": 1,
   "id": "e67ae1db",
   "metadata": {},
   "outputs": [
    {
     "data": {
      "text/plain": [
       "16"
      ]
     },
     "execution_count": 1,
     "metadata": {},
     "output_type": "execute_result"
    }
   ],
   "source": [
    "val = 2+2\n",
    "val *= val\n",
    "val"
   ]
  },
  {
   "cell_type": "code",
   "execution_count": 2,
   "id": "4bd9dbce",
   "metadata": {},
   "outputs": [
    {
     "data": {
      "text/plain": [
       "20"
      ]
     },
     "execution_count": 2,
     "metadata": {},
     "output_type": "execute_result"
    }
   ],
   "source": [
    "new_val = val + 4\n",
    "new_val"
   ]
  },
  {
   "cell_type": "code",
   "execution_count": 6,
   "id": "1902fbb3",
   "metadata": {},
   "outputs": [],
   "source": [
    "card_values = [2, 3, 4, 5, 6, 7, 8, 9, 10, 11, 12, 13, 14]\n",
    "card_suits = ['Spades', 'Diamonds', 'Hearts', 'Clubs']\n",
    "card_val_dict = {\"Two\": 2, \"Three\": 3, \"Four\": 4, \"Five\": 5, \"Six\": 6, \"Seven\": 7, \"Eight\": 8, \"Nine\": 9, \"Ten\": 10,\n",
    "                 \"Jack\": 11, \"Queen\": 12, \"King\": 13, \"Ace\": 14}"
   ]
  },
  {
   "cell_type": "code",
   "execution_count": 7,
   "id": "a81dfd7f",
   "metadata": {},
   "outputs": [],
   "source": [
    "class Card:\n",
    "    \n",
    "    def __init__(self, value, suit):\n",
    "        self.name = value\n",
    "        self.value = card_val_dict[value]\n",
    "        self.suit = suit\n",
    "        \n",
    "    def __str__(self):\n",
    "        return self.name + \" of \" + self.suit"
   ]
  },
  {
   "cell_type": "code",
   "execution_count": 11,
   "id": "1e62a928",
   "metadata": {},
   "outputs": [],
   "source": [
    "class Deck:\n",
    "    \n",
    "    def __init__(self):\n",
    "        self.decklist = []\n",
    "        for suit in card_suits:\n",
    "            for val in card_val_dict:\n",
    "                self.decklist.append(Card(val, suit))\n",
    "                \n",
    "    def __str__(self):\n",
    "        return str(len(self.decklist))"
   ]
  },
  {
   "cell_type": "code",
   "execution_count": 13,
   "id": "0630bc60",
   "metadata": {},
   "outputs": [
    {
     "name": "stdout",
     "output_type": "stream",
     "text": [
      "52\n",
      "Two of Spades\n",
      "Three of Spades\n",
      "Four of Spades\n",
      "Five of Spades\n",
      "Six of Spades\n",
      "Seven of Spades\n",
      "Eight of Spades\n",
      "Nine of Spades\n",
      "Ten of Spades\n",
      "Jack of Spades\n",
      "Queen of Spades\n",
      "King of Spades\n",
      "Ace of Spades\n",
      "Two of Diamonds\n",
      "Three of Diamonds\n",
      "Four of Diamonds\n",
      "Five of Diamonds\n",
      "Six of Diamonds\n",
      "Seven of Diamonds\n",
      "Eight of Diamonds\n",
      "Nine of Diamonds\n",
      "Ten of Diamonds\n",
      "Jack of Diamonds\n",
      "Queen of Diamonds\n",
      "King of Diamonds\n",
      "Ace of Diamonds\n",
      "Two of Hearts\n",
      "Three of Hearts\n",
      "Four of Hearts\n",
      "Five of Hearts\n",
      "Six of Hearts\n",
      "Seven of Hearts\n",
      "Eight of Hearts\n",
      "Nine of Hearts\n",
      "Ten of Hearts\n",
      "Jack of Hearts\n",
      "Queen of Hearts\n",
      "King of Hearts\n",
      "Ace of Hearts\n",
      "Two of Clubs\n",
      "Three of Clubs\n",
      "Four of Clubs\n",
      "Five of Clubs\n",
      "Six of Clubs\n",
      "Seven of Clubs\n",
      "Eight of Clubs\n",
      "Nine of Clubs\n",
      "Ten of Clubs\n",
      "Jack of Clubs\n",
      "Queen of Clubs\n",
      "King of Clubs\n",
      "Ace of Clubs\n"
     ]
    }
   ],
   "source": [
    "my_deck = Deck()\n",
    "print(my_deck)\n",
    "for card in my_deck.decklist:\n",
    "    print(card)"
   ]
  },
  {
   "cell_type": "code",
   "execution_count": null,
   "id": "b7dc697f",
   "metadata": {},
   "outputs": [],
   "source": []
  }
 ],
 "metadata": {
  "kernelspec": {
   "display_name": "Python 3 (ipykernel)",
   "language": "python",
   "name": "python3"
  },
  "language_info": {
   "codemirror_mode": {
    "name": "ipython",
    "version": 3
   },
   "file_extension": ".py",
   "mimetype": "text/x-python",
   "name": "python",
   "nbconvert_exporter": "python",
   "pygments_lexer": "ipython3",
   "version": "3.9.13"
  }
 },
 "nbformat": 4,
 "nbformat_minor": 5
}
