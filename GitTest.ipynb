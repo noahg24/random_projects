{
 "cells": [
  {
   "cell_type": "markdown",
   "id": "de3bf7a7",
   "metadata": {},
   "source": [
    "## Random Mini Projects\n",
    "\n",
    "### Card Games\n",
    "* Funches\n",
    "* War\n",
    "\n",
    "### Other Games\n",
    "* Connect 4\n",
    "* Minesweeper"
   ]
  },
  {
   "cell_type": "code",
   "execution_count": 1,
   "id": "e67ae1db",
   "metadata": {},
   "outputs": [
    {
     "data": {
      "text/plain": [
       "16"
      ]
     },
     "execution_count": 1,
     "metadata": {},
     "output_type": "execute_result"
    }
   ],
   "source": [
    "val = 2+2\n",
    "val *= val\n",
    "val"
   ]
  },
  {
   "cell_type": "code",
   "execution_count": 2,
   "id": "4bd9dbce",
   "metadata": {},
   "outputs": [
    {
     "data": {
      "text/plain": [
       "20"
      ]
     },
     "execution_count": 2,
     "metadata": {},
     "output_type": "execute_result"
    }
   ],
   "source": [
    "new_val = val + 4\n",
    "new_val"
   ]
  },
  {
   "cell_type": "code",
   "execution_count": null,
   "id": "1902fbb3",
   "metadata": {},
   "outputs": [],
   "source": []
  }
 ],
 "metadata": {
  "kernelspec": {
   "display_name": "Python 3 (ipykernel)",
   "language": "python",
   "name": "python3"
  },
  "language_info": {
   "codemirror_mode": {
    "name": "ipython",
    "version": 3
   },
   "file_extension": ".py",
   "mimetype": "text/x-python",
   "name": "python",
   "nbconvert_exporter": "python",
   "pygments_lexer": "ipython3",
   "version": "3.9.13"
  }
 },
 "nbformat": 4,
 "nbformat_minor": 5
}
